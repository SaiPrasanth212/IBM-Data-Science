{
 "cells": [
  {
   "cell_type": "markdown",
   "metadata": {},
   "source": [
    "# Exercise 2\n",
    "\n",
    "### Title --> Final Project - Data Science Tools"
   ]
  },
  {
   "cell_type": "markdown",
   "metadata": {},
   "source": [
    "# Exercise 3\n",
    "### 'Introduction'\n",
    "### 'This notebook provides an overview of various data science tools and examples of arithmetic expressions in Python.'\n"
   ]
  },
  {
   "cell_type": "markdown",
   "metadata": {},
   "source": [
    "# Exercise 4 \n",
    "\n",
    "### Data Science Languages\n",
    "\n",
    "### 1) Python\n",
    "\n",
    "### 2) R\n",
    "\n",
    "### 3) SQL\n"
   ]
  },
  {
   "cell_type": "markdown",
   "metadata": {},
   "source": [
    "# Exercise 5\n",
    "\n",
    "## Data Science Libraries\n",
    "\n",
    "### 1) NumPy\n",
    "\n",
    "### 2) Pandas\n",
    "\n",
    "### 3) Matplotlib\n",
    "\n",
    "### 4) Scikit-learn\n"
   ]
  },
  {
   "cell_type": "markdown",
   "metadata": {},
   "source": [
    "# Exercise 6\n",
    "\n",
    "## Data Science Tools Table\n",
    "\n",
    "### Tool\t                          Description\n",
    "\n",
    "### 1) Jupyter Notebook       Interactive computing environment\n",
    "### 2) Git                                Version control system\n",
    "### 3) Docker                         Containerization platform\n"
   ]
  },
  {
   "cell_type": "markdown",
   "metadata": {},
   "source": [
    "# Exercise 7\n",
    "\n",
    "## Arithmetic Expression Examples\n",
    "\n",
    "### This section provides some examples of arithmetic expressions in Python.\n",
    "\n",
    "### 2+3  = 5 ( Addition )\n",
    "### 2 x 3 = 6 ( Multiplication )"
   ]
  },
  {
   "cell_type": "code",
   "execution_count": 1,
   "metadata": {},
   "outputs": [
    {
     "name": "stdout",
     "output_type": "stream",
     "text": [
      "5\n",
      "6\n"
     ]
    }
   ],
   "source": [
    "### Exercise 8 ###\n",
    "\n",
    "a = 2\n",
    "b = 3\n",
    "\n",
    "sum = a+b\n",
    "product = a*b\n",
    "\n",
    "print(sum)\n",
    "print(product)\n"
   ]
  },
  {
   "cell_type": "code",
   "execution_count": 9,
   "metadata": {},
   "outputs": [
    {
     "name": "stdout",
     "output_type": "stream",
     "text": [
      "2 hours and 15 minutes\n"
     ]
    }
   ],
   "source": [
    "### Exercise 9 ### \n",
    "\n",
    "def minutes_to_hours(minutes):\n",
    "    \"\"\"\n",
    "    Converts minutes to hours and minutes.\n",
    "    \n",
    "    Args:\n",
    "    - minutes (int): Number of minutes to be converted\n",
    "    \n",
    "    Returns:\n",
    "    - hours (int): Number of hours in the given minutes\n",
    "    - remaining_minutes (int): Number of minutes remaining after converting to hours\n",
    "    \"\"\"\n",
    "    hours = minutes // 60\n",
    "    remaining_minutes = minutes % 60\n",
    "    return hours, remaining_minutes\n",
    "\n",
    "### This code defines a function minutes_to_hours that takes an integer minutes as an argument and returns a tuple with two values: the number of hours in the given minutes and the remaining minutes after converting to hours.\n",
    "\n",
    "### To use this function, you can call it with the number of minutes you want to convert, like this:\n",
    "\n",
    "hours, remaining_minutes = minutes_to_hours(135)\n",
    "print(hours, \"hours and\", remaining_minutes, \"minutes\")\n"
   ]
  },
  {
   "cell_type": "markdown",
   "metadata": {},
   "source": [
    "# Question 10\n",
    "\n",
    "## Objectives :-\n",
    "\n",
    "### Learn about popular data science languages and libraries, understand the basics of arithmetic expressions in Python.\n"
   ]
  },
  {
   "cell_type": "markdown",
   "metadata": {},
   "source": [
    "# Question 11\n",
    "\n",
    "## Author : Sai Prasanth Pulapa"
   ]
  }
 ],
 "metadata": {
  "colab": {
   "provenance": []
  },
  "kernelspec": {
   "display_name": "Python 3 (ipykernel)",
   "language": "python",
   "name": "python3"
  },
  "language_info": {
   "codemirror_mode": {
    "name": "ipython",
    "version": 3
   },
   "file_extension": ".py",
   "mimetype": "text/x-python",
   "name": "python",
   "nbconvert_exporter": "python",
   "pygments_lexer": "ipython3",
   "version": "3.10.9"
  }
 },
 "nbformat": 4,
 "nbformat_minor": 1
}
